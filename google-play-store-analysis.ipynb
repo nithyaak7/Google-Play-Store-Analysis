{
 "cells": [
  {
   "cell_type": "code",
   "execution_count": null,
   "metadata": {
    "execution": {
     "iopub.execute_input": "2023-02-27T18:39:09.157333Z",
     "iopub.status.busy": "2023-02-27T18:39:09.156782Z",
     "iopub.status.idle": "2023-02-27T18:39:10.186566Z",
     "shell.execute_reply": "2023-02-27T18:39:10.185525Z",
     "shell.execute_reply.started": "2023-02-27T18:39:09.157301Z"
    },
    "trusted": true
   },
   "outputs": [],
   "source": [
    "import numpy as np;\n",
    "import pandas as pd;\n",
    "import seaborn as sn;\n",
    "import matplotlib.pyplot as plt;\n",
    "import seaborn as sns;"
   ]
  },
  {
   "cell_type": "markdown",
   "metadata": {},
   "source": [
    "# Reading the data"
   ]
  },
  {
   "cell_type": "code",
   "execution_count": null,
   "metadata": {
    "execution": {
     "iopub.execute_input": "2023-02-27T18:42:27.082033Z",
     "iopub.status.busy": "2023-02-27T18:42:27.081638Z",
     "iopub.status.idle": "2023-02-27T18:42:27.151920Z",
     "shell.execute_reply": "2023-02-27T18:42:27.151124Z",
     "shell.execute_reply.started": "2023-02-27T18:42:27.082001Z"
    },
    "trusted": true
   },
   "outputs": [],
   "source": [
    "#df = pd.read_csv('/kaggle/input/googleplaystore/googleplaystore.csv');"
   ]
  },
  {
   "cell_type": "code",
   "execution_count": null,
   "metadata": {},
   "outputs": [],
   "source": [
    "df = pd.read_csv('C:/Users/nithyaa/Documents/Kaggle/googleplaystore.csv');"
   ]
  },
  {
   "cell_type": "markdown",
   "metadata": {},
   "source": [
    "Here's a quick overview of the dataset:\n",
    "\n",
    "Number of rows: 10,841\n",
    "\n",
    "Number of columns: 13\n",
    "\n",
    "Column names:\n",
    "\n",
    "App, Category, Rating, Reviews, Size, Installs, Type, Price, Content Rating, Genres, Last Updated, Current Ver, Android Ver"
   ]
  },
  {
   "cell_type": "code",
   "execution_count": null,
   "metadata": {},
   "outputs": [],
   "source": [
    "df.info()"
   ]
  },
  {
   "cell_type": "code",
   "execution_count": null,
   "metadata": {},
   "outputs": [],
   "source": [
    "df.shape"
   ]
  },
  {
   "cell_type": "code",
   "execution_count": null,
   "metadata": {},
   "outputs": [],
   "source": [
    "df.describe()"
   ]
  },
  {
   "cell_type": "markdown",
   "metadata": {},
   "source": [
    "Sample Data (first 5 rows):"
   ]
  },
  {
   "cell_type": "code",
   "execution_count": null,
   "metadata": {
    "execution": {
     "iopub.execute_input": "2023-02-27T19:28:23.509267Z",
     "iopub.status.busy": "2023-02-27T19:28:23.508833Z",
     "iopub.status.idle": "2023-02-27T19:28:23.528214Z",
     "shell.execute_reply": "2023-02-27T19:28:23.526937Z",
     "shell.execute_reply.started": "2023-02-27T19:28:23.509229Z"
    },
    "trusted": true
   },
   "outputs": [],
   "source": [
    "df.head()"
   ]
  },
  {
   "cell_type": "markdown",
   "metadata": {},
   "source": [
    "# **Data Cleaning**"
   ]
  },
  {
   "cell_type": "markdown",
   "metadata": {},
   "source": [
    "1. Convert columns to proper data types, especially: Reviews, Installs, Price to numeric types."
   ]
  },
  {
   "cell_type": "code",
   "execution_count": null,
   "metadata": {},
   "outputs": [],
   "source": [
    "# 1. Clean 'Reviews': convert to numeric from string\n",
    "df['Reviews'] = pd.to_numeric(df['Reviews'], errors='coerce')"
   ]
  },
  {
   "cell_type": "code",
   "execution_count": null,
   "metadata": {},
   "outputs": [],
   "source": [
    "# 2. Clean 'Installs': remove ',' and '+' then convert to numeric\n",
    "df['Installs'] = df['Installs'].str.replace('[+,]','',regex=True)\n",
    "df['Installs'] = pd.to_numeric(df['Installs'], errors='coerce')"
   ]
  },
  {
   "cell_type": "code",
   "execution_count": null,
   "metadata": {},
   "outputs": [],
   "source": [
    "# 3. Clean 'Price': remove '$' then convert to float\n",
    "df['Price'] = df['Price'].str.replace('$','',regex=False)\n",
    "df['Price'] = pd.to_numeric(df['Price'], errors='coerce')"
   ]
  },
  {
   "cell_type": "code",
   "execution_count": null,
   "metadata": {},
   "outputs": [],
   "source": [
    "# 4. Clean 'Last Updated' to Datetime\n",
    "df['Last Updated'] = pd.to_datetime(df['Last Updated'],errors='coerce')"
   ]
  },
  {
   "cell_type": "code",
   "execution_count": null,
   "metadata": {},
   "outputs": [],
   "source": [
    "# 5. Clean 'Size': \n",
    "    # a.Remove M and k\n",
    "df['Size'] = df['Size'].str.replace('[Mk]','',regex=True)\n",
    "    # b. Replace 'Varies with Device' to NaN\n",
    "df['Size'] = df['Size'].replace('Varies with Device',np.nan)\n"
   ]
  },
  {
   "cell_type": "code",
   "execution_count": null,
   "metadata": {},
   "outputs": [],
   "source": [
    "    # c. Change the datatype to float\n",
    "df['Size'] = pd.to_numeric(df['Size'],errors='coerce')"
   ]
  },
  {
   "cell_type": "code",
   "execution_count": null,
   "metadata": {},
   "outputs": [],
   "source": [
    "df.info()"
   ]
  },
  {
   "cell_type": "markdown",
   "metadata": {},
   "source": [
    "2. Check for **missing values**"
   ]
  },
  {
   "cell_type": "code",
   "execution_count": null,
   "metadata": {},
   "outputs": [],
   "source": [
    "missing_counts = df.isnull().sum();\n",
    "print(missing_counts)"
   ]
  },
  {
   "cell_type": "markdown",
   "metadata": {},
   "source": [
    "Remove the rows that has missing values in the fields: rating, installs, category, reviews,type and price"
   ]
  },
  {
   "cell_type": "code",
   "execution_count": null,
   "metadata": {},
   "outputs": [],
   "source": [
    "df = df.dropna(subset=['Category', 'Rating', 'Reviews', 'Installs', 'Type', 'Price'])"
   ]
  },
  {
   "cell_type": "markdown",
   "metadata": {},
   "source": [
    " Drop rows with missing or malformed 'App' names\n"
   ]
  },
  {
   "cell_type": "code",
   "execution_count": null,
   "metadata": {},
   "outputs": [],
   "source": [
    "df = df[df['App'].notna()]"
   ]
  },
  {
   "cell_type": "code",
   "execution_count": null,
   "metadata": {},
   "outputs": [],
   "source": [
    "# Reset index after cleaning\n",
    "df.reset_index(drop=True, inplace=True)"
   ]
  },
  {
   "cell_type": "code",
   "execution_count": null,
   "metadata": {},
   "outputs": [],
   "source": [
    "print(df.isnull().sum());"
   ]
  },
  {
   "cell_type": "markdown",
   "metadata": {},
   "source": [
    "# Removing columns that are almost empty"
   ]
  },
  {
   "cell_type": "code",
   "execution_count": null,
   "metadata": {
    "execution": {
     "iopub.execute_input": "2023-02-27T19:39:15.011277Z",
     "iopub.status.busy": "2023-02-27T19:39:15.010798Z",
     "iopub.status.idle": "2023-02-27T19:39:15.019058Z",
     "shell.execute_reply": "2023-02-27T19:39:15.017874Z",
     "shell.execute_reply.started": "2023-02-27T19:39:15.011230Z"
    },
    "trusted": true
   },
   "outputs": [],
   "source": [
    "threshold = len(df) * 0.2\n",
    "threshold"
   ]
  },
  {
   "cell_type": "code",
   "execution_count": null,
   "metadata": {
    "execution": {
     "iopub.execute_input": "2023-02-27T19:41:11.272967Z",
     "iopub.status.busy": "2023-02-27T19:41:11.272575Z",
     "iopub.status.idle": "2023-02-27T19:41:11.287346Z",
     "shell.execute_reply": "2023-02-27T19:41:11.286191Z",
     "shell.execute_reply.started": "2023-02-27T19:41:11.272932Z"
    },
    "trusted": true
   },
   "outputs": [],
   "source": [
    "df.dropna(thresh=threshold, axis = 1,inplace=True)"
   ]
  },
  {
   "cell_type": "code",
   "execution_count": null,
   "metadata": {
    "execution": {
     "iopub.execute_input": "2023-02-27T19:41:47.975581Z",
     "iopub.status.busy": "2023-02-27T19:41:47.975222Z",
     "iopub.status.idle": "2023-02-27T19:41:47.988745Z",
     "shell.execute_reply": "2023-02-27T19:41:47.987030Z",
     "shell.execute_reply.started": "2023-02-27T19:41:47.975546Z"
    },
    "trusted": true
   },
   "outputs": [],
   "source": [
    "# Rows: 9,366 (from original 10,841 — removed problematic or incomplete entries)\n",
    "\n",
    "print(df.shape)"
   ]
  },
  {
   "cell_type": "code",
   "execution_count": null,
   "metadata": {},
   "outputs": [],
   "source": [
    "# Set plot style\n",
    "sns.set(style=\"whitegrid\")\n",
    "\n",
    "# Plot box plots for each feature\n",
    "fig, axs = plt.subplots(nrows=2, ncols=2, figsize=(14, 10))\n",
    "\n",
    "# Rating\n",
    "sns.boxplot(y=df['Rating'], ax=axs[0, 0], color='lightblue')\n",
    "axs[0, 0].set_title('Box Plot - Rating')\n",
    "\n",
    "# Reviews\n",
    "sns.boxplot(y=df['Reviews'], ax=axs[0, 1], color='lightgreen')\n",
    "axs[0, 1].set_title('Box Plot - Reviews')\n",
    "axs[0, 1].set_yscale('log')  # Log scale due to large range\n",
    "\n",
    "# Installs\n",
    "sns.boxplot(y=df['Installs'], ax=axs[1, 0], color='salmon')\n",
    "axs[1, 0].set_title('Box Plot - Installs')\n",
    "axs[1, 0].set_yscale('log')\n",
    "\n",
    "# Price\n",
    "sns.boxplot(y=df['Price'], ax=axs[1, 1], color='aqua')\n",
    "axs[1, 1].set_title('Box Plot - Price')\n",
    "#axs[1, 1].set_yscale('log')\n",
    "\n",
    "plt.tight_layout()\n",
    "plt.show()"
   ]
  },
  {
   "cell_type": "markdown",
   "metadata": {},
   "source": [
    "Filling the Type, Current Ver and Android Ver with the most frequently occuring value of the field."
   ]
  },
  {
   "cell_type": "code",
   "execution_count": null,
   "metadata": {
    "execution": {
     "iopub.execute_input": "2023-02-27T19:51:03.069167Z",
     "iopub.status.busy": "2023-02-27T19:51:03.068777Z",
     "iopub.status.idle": "2023-02-27T19:51:03.080280Z",
     "shell.execute_reply": "2023-02-27T19:51:03.078478Z",
     "shell.execute_reply.started": "2023-02-27T19:51:03.069134Z"
    },
    "trusted": true
   },
   "outputs": [],
   "source": [
    "print(df['Type'].mode())\n",
    "print(df['Current Ver'].mode())\n",
    "print(df['Android Ver'].mode())"
   ]
  },
  {
   "cell_type": "code",
   "execution_count": null,
   "metadata": {
    "execution": {
     "iopub.execute_input": "2023-02-27T19:57:54.820612Z",
     "iopub.status.busy": "2023-02-27T19:57:54.820283Z",
     "iopub.status.idle": "2023-02-27T19:57:54.831006Z",
     "shell.execute_reply": "2023-02-27T19:57:54.830166Z",
     "shell.execute_reply.started": "2023-02-27T19:57:54.820585Z"
    },
    "trusted": true
   },
   "outputs": [],
   "source": [
    "df['Type'].fillna(str(df['Type'].mode().values[0]),inplace = True)\n",
    "df['Current Ver'].fillna(str(df['Current Ver'].mode().values[0]),inplace=True)\n",
    "df['Android Ver'].fillna(str(df['Android Ver'].mode().values[0]),inplace = True)"
   ]
  },
  {
   "cell_type": "code",
   "execution_count": null,
   "metadata": {
    "execution": {
     "iopub.execute_input": "2023-02-27T19:58:08.998788Z",
     "iopub.status.busy": "2023-02-27T19:58:08.998331Z",
     "iopub.status.idle": "2023-02-27T19:58:09.014703Z",
     "shell.execute_reply": "2023-02-27T19:58:09.013233Z",
     "shell.execute_reply.started": "2023-02-27T19:58:08.998752Z"
    },
    "trusted": true
   },
   "outputs": [],
   "source": [
    "df.isnull().sum()"
   ]
  },
  {
   "cell_type": "code",
   "execution_count": null,
   "metadata": {
    "execution": {
     "iopub.execute_input": "2023-02-27T20:20:02.659696Z",
     "iopub.status.busy": "2023-02-27T20:20:02.659133Z",
     "iopub.status.idle": "2023-02-27T20:20:02.679664Z",
     "shell.execute_reply": "2023-02-27T20:20:02.678215Z",
     "shell.execute_reply.started": "2023-02-27T20:20:02.659658Z"
    },
    "trusted": true
   },
   "outputs": [],
   "source": [
    "df.head(10)"
   ]
  },
  {
   "cell_type": "code",
   "execution_count": null,
   "metadata": {
    "execution": {
     "iopub.execute_input": "2023-02-27T20:20:50.340806Z",
     "iopub.status.busy": "2023-02-27T20:20:50.340425Z",
     "iopub.status.idle": "2023-02-27T20:20:50.364698Z",
     "shell.execute_reply": "2023-02-27T20:20:50.363515Z",
     "shell.execute_reply.started": "2023-02-27T20:20:50.340772Z"
    },
    "trusted": true
   },
   "outputs": [],
   "source": [
    "df.describe()"
   ]
  },
  {
   "cell_type": "markdown",
   "metadata": {},
   "source": [
    "# **EDA**"
   ]
  },
  {
   "cell_type": "code",
   "execution_count": null,
   "metadata": {},
   "outputs": [],
   "source": [
    "grp = df.groupby('Category')\n",
    "x = grp['Installs'].agg(np.mean)\n",
    "y = grp['Price'].agg(np.sum)\n",
    "z = grp['Reviews'].agg(np.mean)"
   ]
  },
  {
   "cell_type": "code",
   "execution_count": null,
   "metadata": {},
   "outputs": [],
   "source": [
    "plt.figure(figsize = (16,5))\n",
    "plt.plot(x,'b--',color = 'b')\n",
    "plt.xticks(rotation = 90)\n",
    "plt.title('Category Vs Installs')\n",
    "plt.xlabel('Category')\n",
    "plt.ylabel('Installs')\n",
    "plt.show()"
   ]
  },
  {
   "cell_type": "code",
   "execution_count": null,
   "metadata": {},
   "outputs": [],
   "source": [
    "plt.figure(figsize = (16,5))\n",
    "plt.plot(y,'r--',color = 'r')\n",
    "plt.xticks(rotation = 90)\n",
    "plt.title('Category Vs Price')\n",
    "plt.xlabel('Category')\n",
    "plt.ylabel('Price')\n",
    "plt.show()"
   ]
  },
  {
   "cell_type": "code",
   "execution_count": null,
   "metadata": {},
   "outputs": [],
   "source": [
    "plt.figure(figsize =(16,5))\n",
    "plt.plot(z,'g--',color='g');\n",
    "plt.xticks(rotation =90)\n",
    "plt.title('Category Vs Reviews')\n",
    "plt.xlabel('Category')\n",
    "plt.ylabel('Reviews')\n",
    "plt.show();"
   ]
  },
  {
   "cell_type": "markdown",
   "metadata": {},
   "source": [
    "**KDE plots**"
   ]
  },
  {
   "cell_type": "code",
   "execution_count": null,
   "metadata": {},
   "outputs": [],
   "source": [
    "# Distribution of Price\n",
    "g = sns.histplot(data=paid_apps,x='Price',kde=True,color='blue',bins=20)\n",
    "\n",
    "# Add bar labels\n",
    "for bar in g.patches:\n",
    "    height = bar.get_height()\n",
    "    if height > 0:\n",
    "        plt.text(\n",
    "            bar.get_x() + bar.get_width() / 2,\n",
    "            height,\n",
    "            f'{int(height)}',\n",
    "            ha='center',\n",
    "            va='bottom',\n",
    "            fontsize=9\n",
    "        )\n",
    "\n",
    "plt.title('Distribution of Price')\n",
    "plt.xlabel('Price')\n",
    "plt.ylabel('Number of Apps')\n",
    "plt.tight_layout()\n",
    "plt.show()\n"
   ]
  },
  {
   "cell_type": "code",
   "execution_count": null,
   "metadata": {},
   "outputs": [],
   "source": [
    "# Distribution of Content Rating\n",
    "\n",
    "g = sns.histplot(data=paid_apps,x='Content Rating',kde=True,color='blue',bins=30)\n",
    "\n",
    "# Add bar labels\n",
    "for bar in g.patches:\n",
    "    height = bar.get_height()\n",
    "    if height > 0:\n",
    "        plt.text(\n",
    "            bar.get_x() + bar.get_width() / 2,\n",
    "            height,\n",
    "            f'{int(height)}',\n",
    "            ha='center',\n",
    "            va='bottom',\n",
    "            fontsize=9\n",
    "        )\n",
    "\n",
    "plt.title('Distribution of Content Rating of Apps')\n",
    "plt.xlabel('Content Rating') \n",
    "plt.ylabel('Number of Apps')\n",
    "plt.tight_layout()\n",
    "plt.show()\n",
    "\n"
   ]
  },
  {
   "cell_type": "markdown",
   "metadata": {},
   "source": [
    "# **Findings**"
   ]
  },
  {
   "cell_type": "markdown",
   "metadata": {},
   "source": [
    "1. How many apps are there in total?\n",
    "\n"
   ]
  },
  {
   "cell_type": "code",
   "execution_count": null,
   "metadata": {},
   "outputs": [],
   "source": [
    "app_count = df.shape[0]\n",
    "print(f\"Total number of apps in the store are: {app_count}\")"
   ]
  },
  {
   "cell_type": "markdown",
   "metadata": {},
   "source": [
    "2. What are the unique app categories?"
   ]
  },
  {
   "cell_type": "code",
   "execution_count": null,
   "metadata": {},
   "outputs": [],
   "source": [
    "unique_app_category = df['Category'].unique()\n",
    "category_count = unique_app_category.size\n",
    "print(f\"There are {category_count} categories in total.\")\n",
    "print(f\"Different Categories of App are: {unique_app_category}\")"
   ]
  },
  {
   "cell_type": "markdown",
   "metadata": {},
   "source": [
    "**Most popular Categories of all apps**"
   ]
  },
  {
   "cell_type": "code",
   "execution_count": null,
   "metadata": {},
   "outputs": [],
   "source": [
    "cat_count=df['Category'].value_counts().head(10)\n",
    "\n",
    "# Plot pie chart\n",
    "plt.figure(figsize=(8, 8))\n",
    "plt.pie(cat_count,labels=cat_count.index,autopct='%1.1f%%', startangle=0)\n",
    "\n",
    "plt.title('Top 10 Categories of the apps')\n",
    "plt.tight_layout()\n",
    "plt.show()\n"
   ]
  },
  {
   "cell_type": "markdown",
   "metadata": {},
   "source": [
    "3. Which category has the most apps?"
   ]
  },
  {
   "cell_type": "code",
   "execution_count": null,
   "metadata": {},
   "outputs": [],
   "source": [
    "most_common_category = df['Category'].value_counts().idxmax()\n",
    "count = df['Category'].value_counts().max()\n",
    "\n",
    "print(f\"The most common category is '{most_common_category}' with {count} occurrences.\")"
   ]
  },
  {
   "cell_type": "markdown",
   "metadata": {},
   "source": [
    "4. What is the average app rating overall in each category?\n"
   ]
  },
  {
   "cell_type": "code",
   "execution_count": null,
   "metadata": {},
   "outputs": [],
   "source": [
    "average_rating_category = df.groupby('Category')['Rating'].mean()\n",
    "\n",
    "print(f\"Average app Rating over different Categories:\\n {average_rating_category} \")"
   ]
  },
  {
   "cell_type": "markdown",
   "metadata": {},
   "source": [
    "5. How many apps are free vs paid?"
   ]
  },
  {
   "cell_type": "code",
   "execution_count": null,
   "metadata": {},
   "outputs": [],
   "source": [
    "free_app_counts = len(df[df['Type'] == 'Free'])\n",
    "print(f\"No of Free apps: {free_app_counts}\")"
   ]
  },
  {
   "cell_type": "code",
   "execution_count": null,
   "metadata": {},
   "outputs": [],
   "source": [
    "paid_app_counts = len(df[df['Type'] == 'Paid'])\n",
    "print(f\"No of Paid apps: {paid_app_counts}\")"
   ]
  },
  {
   "cell_type": "code",
   "execution_count": null,
   "metadata": {},
   "outputs": [],
   "source": [
    "counts = df['Type'].value_counts()\n",
    "\n",
    "# Plot pie chart\n",
    "plt.figure(figsize=(8, 8))\n",
    "plt.pie(counts, \n",
    "        labels=counts.index, \n",
    "        autopct='%1.1f%%', \n",
    "        startangle=140)\n",
    "\n",
    "plt.title('Distribution of Free Apps vs Paid Apps')\n",
    "plt.tight_layout()\n",
    "plt.show()"
   ]
  },
  {
   "cell_type": "markdown",
   "metadata": {},
   "source": [
    "6. What’s the average price of paid apps?"
   ]
  },
  {
   "cell_type": "code",
   "execution_count": null,
   "metadata": {},
   "outputs": [],
   "source": [
    "paid_apps = df[df['Price'] > 0]\n",
    "\n",
    "paid_mean = paid_apps['Price'].mean()\n",
    "print(f\"Average price of paid apps: {paid_mean}\")"
   ]
  },
  {
   "cell_type": "markdown",
   "metadata": {},
   "source": [
    "7. What is the distribution of app ratings?"
   ]
  },
  {
   "cell_type": "code",
   "execution_count": null,
   "metadata": {},
   "outputs": [],
   "source": [
    "df['Rating'].describe()"
   ]
  },
  {
   "cell_type": "code",
   "execution_count": null,
   "metadata": {},
   "outputs": [],
   "source": [
    "#Plotting a histogram to show the Ratings Distribution\n",
    "df['Rating'].hist(bins=10)\n",
    "plt.title(\"Distribution of App Ratings\")\n",
    "plt.xlabel(\"Ratings\")\n",
    "plt.ylabel(\"Frequency\")\n",
    "plt.show()"
   ]
  },
  {
   "cell_type": "markdown",
   "metadata": {},
   "source": [
    "8. Which apps have the highest number of reviews?"
   ]
  },
  {
   "cell_type": "code",
   "execution_count": null,
   "metadata": {},
   "outputs": [],
   "source": [
    "max_review = df.loc[df['Reviews'].idxmax()]\n",
    "max_review_app = max_review['App']\n",
    "\n",
    "print(f\"The app having highest number of reviews is: {max_review_app} with {max_review['Reviews']} counts\")"
   ]
  },
  {
   "cell_type": "markdown",
   "metadata": {},
   "source": [
    "9. What is the average number of installs?"
   ]
  },
  {
   "cell_type": "code",
   "execution_count": null,
   "metadata": {},
   "outputs": [],
   "source": [
    "avg_installs = df['Installs'].mean()\n",
    "print(f\"Average number of installs: {avg_installs}\")"
   ]
  },
  {
   "cell_type": "markdown",
   "metadata": {},
   "source": [
    "# **Data Analysis**"
   ]
  },
  {
   "cell_type": "code",
   "execution_count": null,
   "metadata": {},
   "outputs": [],
   "source": [
    "# Sort and get top 10 most expensive apps\n",
    "top_10_expensive = paid_apps.sort_values(by='Price', ascending=False).head(10)\n",
    "\n",
    "# Display selected columns\n",
    "print(\"Top 10 Expensive Apps in the Playstore\\n\")\n",
    "print(top_10_expensive[['App', 'Category', 'Price', 'Rating', 'Installs']])"
   ]
  },
  {
   "cell_type": "code",
   "execution_count": 465,
   "metadata": {},
   "outputs": [
    {
     "name": "stderr",
     "output_type": "stream",
     "text": [
      "C:\\Users\\nithyaa\\AppData\\Local\\Temp\\ipykernel_11188\\932094431.py:5: FutureWarning: \n",
      "\n",
      "Passing `palette` without assigning `hue` is deprecated and will be removed in v0.14.0. Assign the `y` variable to `hue` and set `legend=False` for the same effect.\n",
      "\n",
      "  sns.barplot(popular_apps,x='Installs',y='App',palette='deep')\n"
     ]
    },
    {
     "data": {
      "text/plain": [
       "<Axes: xlabel='Installs', ylabel='App'>"
      ]
     },
     "execution_count": 465,
     "metadata": {},
     "output_type": "execute_result"
    },
    {
     "data": {
      "image/png": "[encoded data removed]",
      "text/plain": [
       "<Figure size 640x480 with 1 Axes>"
      ]
     },
     "metadata": {},
     "output_type": "display_data"
    }
   ],
   "source": [
    "#Drilling Down on Family Category\n",
    "\n",
    "popular_apps = df[df['Category']=='FAMILY'].sort_values(by='Installs',ascending=False).head(10)\n",
    "\n",
    "sns.barplot(popular_apps,x='Installs',y='App',palette='deep')"
   ]
  },
  {
   "cell_type": "markdown",
   "metadata": {},
   "source": [
    "**Top 10 Paid Apps in the Family Category**"
   ]
  },
  {
   "cell_type": "code",
   "execution_count": null,
   "metadata": {},
   "outputs": [
    {
     "name": "stderr",
     "output_type": "stream",
     "text": [
      "C:\\Users\\nithyaa\\AppData\\Local\\Temp\\ipykernel_11188\\1540656545.py:3: FutureWarning: \n",
      "\n",
      "Passing `palette` without assigning `hue` is deprecated and will be removed in v0.14.0. Assign the `y` variable to `hue` and set `legend=False` for the same effect.\n",
      "\n",
      "  sns.barplot(top_10_paid_FAMILY,x='Installs',y='App',palette='deep')\n"
     ]
    },
    {
     "data": {
      "text/plain": [
       "<Axes: xlabel='Installs', ylabel='App'>"
      ]
     },
     "execution_count": 477,
     "metadata": {},
     "output_type": "execute_result"
    },
    {
     "data": {
      "image/png": "[encoded data removed]",
      "text/plain": [
       "<Figure size 640x480 with 1 Axes>"
      ]
     },
     "metadata": {},
     "output_type": "display_data"
    }
   ],
   "source": [
    "top_10_paid_FAMILY =df[(df['Category']=='FAMILY') & (df['Type']=='Paid')].sort_values(by='Installs',ascending=False).head(10)\n",
    "\n",
    "sns.barplot(top_10_paid_FAMILY,x='Installs',y='App',palette='deep')"
   ]
  },
  {
   "cell_type": "markdown",
   "metadata": {},
   "source": [
    "We will answer a few questions here.\n",
    "1. Which app categories have the highest average rating?"
   ]
  },
  {
   "cell_type": "code",
   "execution_count": null,
   "metadata": {},
   "outputs": [],
   "source": [
    "# Sort and get top 5 apps with highest avg rating\n",
    "top_5_category = average_rating_category.sort_values(ascending=False).head(5)\n",
    "\n",
    "print(f\"The top 5 app categories that has highest average rating are:\\n {top_5_category}\")"
   ]
  },
  {
   "cell_type": "markdown",
   "metadata": {},
   "source": [
    "2. Which categories have the most installs on average?"
   ]
  },
  {
   "cell_type": "code",
   "execution_count": null,
   "metadata": {},
   "outputs": [],
   "source": [
    "# Sort and get the top 5 most installs on the average\n",
    "top_5_category_installs = round(df.groupby('Category')['Installs'].mean(),2).sort_values(ascending=False).head(5)\n",
    "\n",
    "print(f\"The top 5 app categories that has highest number of installs are:\\n {top_5_category_installs} \")"
   ]
  },
  {
   "cell_type": "markdown",
   "metadata": {},
   "source": [
    "**Interpretation**\n",
    "\n",
    "COMMUNICATION has the highest number of installs with 99M, which includes apps like Whatsapp, Facebook Messenger, UC Browser, etc\n",
    "Next follows SOCIAL with 54M installs having apps like Facebook, Instagram, Snapchat, etc"
   ]
  },
  {
   "cell_type": "markdown",
   "metadata": {},
   "source": [
    "3. Is there a correlation between rating and number of installs?"
   ]
  },
  {
   "cell_type": "code",
   "execution_count": null,
   "metadata": {},
   "outputs": [],
   "source": [
    "correlation = df['Rating'].corr(df['Installs'])\n",
    "\n",
    "print(f\"Correlation between Rating and Installs : {correlation}\")"
   ]
  },
  {
   "cell_type": "markdown",
   "metadata": {},
   "source": [
    "**Interpretation**\n",
    "\n",
    "Very weak correlation between Rating and Installs. Which shows that apps with most installs don't necessarily have better ratings. To have a strong correlation, the correlation value should be closer to 1.\n",
    "\n",
    "We can instead check the correlation between type(free or paid) and Installs. As we are performing correlation calculation between a categorical feature and a numerical feature, we cannot use .corr() function. We can perform the ANOVA statistical test to check the difference in means across groups. This can be done as below:"
   ]
  },
  {
   "cell_type": "code",
   "execution_count": null,
   "metadata": {},
   "outputs": [],
   "source": [
    "from scipy.stats import f_oneway\n",
    "\n",
    "# Split data into Free and Paid groups\n",
    "free_installs = df[df['Type'] == 'Free']['Installs']\n",
    "paid_installs = df[df['Type'] == 'Paid']['Installs']\n",
    "\n",
    "# Perform one-way ANOVA\n",
    "anova_result = f_oneway(free_installs, paid_installs)\n",
    "\n",
    "print(f\"ANOVA F-statistic: {anova_result.statistic:.2f}\")\n",
    "print(f\"ANOVA p-value: {anova_result.pvalue:.8f}\")\n"
   ]
  },
  {
   "cell_type": "markdown",
   "metadata": {},
   "source": [
    "As p-value < 0.05, there is a statistically significant difference between installs of Free and Paid apps. Free apps have WAY more installs.\n",
    "Let's visualize this in a box plot."
   ]
  },
  {
   "cell_type": "code",
   "execution_count": null,
   "metadata": {},
   "outputs": [],
   "source": [
    "# Create the box plot\n",
    "plt.figure(figsize=(8, 6))\n",
    "sns.boxplot(x='Type', y='Installs', data=df,palette='pastel')\n",
    "plt.yscale('log')\n",
    "\n",
    "# Add title and labels\n",
    "plt.title('Installs across free and paid apps')\n",
    "plt.xlabel('App Type')\n",
    "plt.ylabel('Number of Installs(log scale)')\n",
    "plt.grid(True)\n",
    "plt.tight_layout()\n",
    "plt.show()"
   ]
  },
  {
   "cell_type": "markdown",
   "metadata": {},
   "source": [
    "4. Do paid apps generally have better ratings than free apps?"
   ]
  },
  {
   "cell_type": "code",
   "execution_count": null,
   "metadata": {},
   "outputs": [],
   "source": [
    "free_apps = df[df['Type']=='Free']\n",
    "\n",
    "free_apps_mean_rating = round(free_apps['Rating'].mean(),3)\n",
    "paid_apps_mean_rating = round(paid_apps['Rating'].mean(),3)\n",
    "mean_rating = round(df['Rating'].mean(),3)\n",
    "\n",
    "print(f\"Average rating of free apps: {free_apps_mean_rating}\")\n",
    "print(f\"Average rating of paid apps: {paid_apps_mean_rating}\")\n",
    "print(f\"Average rating of apps: {mean_rating}\")\n"
   ]
  },
  {
   "cell_type": "markdown",
   "metadata": {},
   "source": [
    "**Interpretation**\n",
    "\n",
    "This shows that the free apps, with average rating of 4.186 are rated lower than paid apps with 4.267 average rating.\n",
    "The paid apps are rated higher than the average score of all apps."
   ]
  },
  {
   "cell_type": "markdown",
   "metadata": {},
   "source": [
    "5. Which genres are most common in highly-rated apps (rating > 4.5)?"
   ]
  },
  {
   "cell_type": "code",
   "execution_count": null,
   "metadata": {},
   "outputs": [],
   "source": [
    "high_rated_apps = df[df['Rating']> 4.5]\n",
    "top_genres = high_rated_apps['Genres'].value_counts().head(10)\n",
    "\n",
    "print(f\"Top 5 Genres that have highly-rated apps with counts are: \\n{top_genres}\")\n",
    "\n"
   ]
  },
  {
   "cell_type": "code",
   "execution_count": null,
   "metadata": {},
   "outputs": [],
   "source": [
    "top_genre_df = top_genres.reset_index()\n",
    "top_genre_df.columns=['Genres','Count']"
   ]
  },
  {
   "cell_type": "code",
   "execution_count": null,
   "metadata": {},
   "outputs": [],
   "source": [
    "# Create the catplot\n",
    "g = sns.catplot(x='Genres',y='Count',data=top_genre_df, kind='bar',palette='deep',hue='Genres',legend=False)\n",
    "\n",
    "# Add count labels to bars\n",
    "ax = g.ax\n",
    "for container in ax.containers:\n",
    "    ax.bar_label(container, label_type='edge')\n",
    "\n",
    "plt.xticks(rotation=45)\n",
    "plt.title('Top Genres in Highly Rated Apps')\n",
    "plt.tight_layout()\n",
    "plt.show()\n"
   ]
  },
  {
   "cell_type": "markdown",
   "metadata": {},
   "source": [
    "6. Which content ratings (e.g. Everyone, Teen, Mature) have the highest-rated apps?"
   ]
  },
  {
   "cell_type": "code",
   "execution_count": null,
   "metadata": {},
   "outputs": [],
   "source": [
    "top_con_rating = high_rated_apps['Content Rating'].value_counts()\n",
    "\n",
    "print(f\"The content ratings for Highest-rated apps are as follows:\\n {top_con_rating}\")"
   ]
  },
  {
   "cell_type": "markdown",
   "metadata": {},
   "source": [
    "**Interpretation**\n",
    "\n",
    "Looking at the numbers, apps that have 'Everyone' as content ratings have the most highest rated apps with 1581 apps followed by 'Teen' with 200 apps.e\n",
    "Let's visualize this with a bar chart."
   ]
  },
  {
   "cell_type": "code",
   "execution_count": null,
   "metadata": {},
   "outputs": [],
   "source": [
    "g= sns.catplot(data=high_rated_apps, x='Content Rating', hue='Content Rating', kind=\"count\", palette='deep', legend=False)\n",
    "\n",
    "# Add count labels to bars\n",
    "ax = g.ax\n",
    "for container in ax.containers:\n",
    "    ax.bar_label(container, label_type='edge')\n",
    "\n",
    "plt.xticks(rotation=45)\n",
    "plt.title('Content Ratings in Highly Rated Apps')\n",
    "#plt.tight_layout()\n",
    "plt.show()"
   ]
  },
  {
   "cell_type": "markdown",
   "metadata": {},
   "source": [
    "7. What is the average price of apps per category?"
   ]
  },
  {
   "cell_type": "code",
   "execution_count": null,
   "metadata": {},
   "outputs": [],
   "source": [
    "paid_apps_per_category_avg_mean = paid_apps.groupby('Category')['Price'].agg(np.mean)\n",
    "\n",
    "print(f\"The average price of paid apps per category is: {paid_apps_per_category_avg_mean}\")"
   ]
  },
  {
   "cell_type": "markdown",
   "metadata": {},
   "source": [
    "8. Is there a relationship between price and installs?"
   ]
  },
  {
   "cell_type": "code",
   "execution_count": null,
   "metadata": {},
   "outputs": [],
   "source": [
    "corr = df['Price'].corr(df['Installs'])\n",
    "corr"
   ]
  },
  {
   "cell_type": "code",
   "execution_count": null,
   "metadata": {},
   "outputs": [],
   "source": [
    "sns.regplot(data=df, x='Price', y='Installs', scatter_kws={'alpha':0.2}, line_kws={\"color\":\"red\"})"
   ]
  },
  {
   "cell_type": "markdown",
   "metadata": {},
   "source": [
    "**Interpretation**\n",
    "\n",
    "Most apps are clustered under $10 and under 10,000 installs\n",
    "\n",
    "A few high-priced apps are extreme outliers\n",
    "\n",
    "Overall trend: higher price → fewer installs"
   ]
  },
  {
   "cell_type": "markdown",
   "metadata": {},
   "source": [
    "Let's visualize how app updates have changed over the years."
   ]
  },
  {
   "cell_type": "code",
   "execution_count": null,
   "metadata": {},
   "outputs": [],
   "source": [
    "new_df=df\n",
    "new_df['Update Year'] = new_df['Last Updated'].dt.year"
   ]
  },
  {
   "cell_type": "code",
   "execution_count": null,
   "metadata": {},
   "outputs": [],
   "source": [
    "# Count number of apps updated per year\n",
    "updates_per_year = new_df['Update Year'].value_counts().sort_index()\n",
    "\n",
    "# Plot\n",
    "plt.figure(figsize=(10, 6))\n",
    "sns.barplot(x=updates_per_year.index, y=updates_per_year.values, palette='deep')\n",
    "\n",
    "plt.title('Number of Apps Updated per Year')\n",
    "plt.xlabel('Year')\n",
    "plt.ylabel('Number of Apps')\n",
    "plt.xticks(rotation=45)\n",
    "plt.grid(axis='y')\n",
    "plt.tight_layout()\n",
    "plt.show()\n"
   ]
  },
  {
   "cell_type": "markdown",
   "metadata": {},
   "source": [
    "Let's  visualize app updates over time, broken down by categories like:\n",
    "\n",
    "✅ App category (e.g. GAME, TOOLS, EDUCATION)\n",
    "\n",
    "✅ App type (Free vs Paid)\n"
   ]
  },
  {
   "cell_type": "code",
   "execution_count": null,
   "metadata": {},
   "outputs": [],
   "source": [
    "# Limit to Top 5 most common categories\n",
    "top_categories = new_df['Category'].value_counts().head(5).index\n",
    "new_df_top = new_df[new_df['Category'].isin(top_categories)]\n"
   ]
  },
  {
   "cell_type": "code",
   "execution_count": null,
   "metadata": {},
   "outputs": [],
   "source": [
    "# Group by Year and Category\n",
    "grouped = new_df_top.groupby(['Update Year', 'Category']).size().reset_index(name='App Count')\n",
    "\n",
    "# Plot\n",
    "plt.figure(figsize=(12, 6))\n",
    "sns.lineplot(data=grouped, x='Update Year', y='App Count', hue='Category', marker='o')\n",
    "plt.title('Number of App Updates per Year by Top Categories')\n",
    "plt.ylabel('Number of Apps Updated')\n",
    "plt.xlabel('Year')\n",
    "plt.grid(True)\n",
    "plt.tight_layout()\n",
    "plt.show()"
   ]
  },
  {
   "cell_type": "markdown",
   "metadata": {},
   "source": [
    "Family and Game apps have sharp increase in updates from year 2017 to 2018. In contrast, Productivity apps have consistent growth."
   ]
  },
  {
   "cell_type": "markdown",
   "metadata": {},
   "source": [
    "9. Do recently updated apps tend to have better ratings?"
   ]
  },
  {
   "cell_type": "code",
   "execution_count": null,
   "metadata": {},
   "outputs": [],
   "source": [
    "rate_corr = df['Last Updated'].corr(df['Rating'])\n",
    "rate_corr"
   ]
  }
 ],
 "metadata": {
  "kernelspec": {
   "display_name": "Python 3",
   "language": "python",
   "name": "python3"
  },
  "language_info": {
   "codemirror_mode": {
    "name": "ipython",
    "version": 3
   },
   "file_extension": ".py",
   "mimetype": "text/x-python",
   "name": "python",
   "nbconvert_exporter": "python",
   "pygments_lexer": "ipython3",
   "version": "3.12.4"
  }
 },
 "nbformat": 4,
 "nbformat_minor": 4
}
